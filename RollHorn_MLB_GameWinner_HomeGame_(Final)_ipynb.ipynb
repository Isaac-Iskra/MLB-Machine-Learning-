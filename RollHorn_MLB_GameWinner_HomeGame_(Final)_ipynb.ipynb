{
  "nbformat": 4,
  "nbformat_minor": 0,
  "metadata": {
    "colab": {
      "provenance": []
    },
    "kernelspec": {
      "name": "python3",
      "display_name": "Python 3"
    },
    "language_info": {
      "name": "python"
    }
  },
  "cells": [
    {
      "cell_type": "code",
      "execution_count": null,
      "metadata": {
        "id": "KXQSB1xn1p7A"
      },
      "outputs": [],
      "source": [
        "import numpy as np\n",
        "import pandas as pd\n",
        "import matplotlib.pyplot as plt\n",
        "\n",
        "import lightgbm as lgbm\n",
        "import structureboost as stb\n",
        "import ml_insights as mli\n",
        "from structureboost import log_loss\n",
        "pd.set_option('display.max_columns',1000)\n",
        "pd.set_option('display.max_rows',1000)"
      ]
    },
    {
      "cell_type": "code",
      "source": [
        "df=pd.read_csv('df_bp1.csv')\n"
      ],
      "metadata": {
        "id": "RA2pP1ni96Bj"
      },
      "execution_count": null,
      "outputs": []
    },
    {
      "cell_type": "code",
      "source": [],
      "metadata": {
        "id": "VgltRnF598xh"
      },
      "execution_count": null,
      "outputs": []
    },
    {
      "cell_type": "code",
      "source": [
        "df.info(max_cols=1000)\n"
      ],
      "metadata": {
        "id": "VoHwq8KW9-kP"
      },
      "execution_count": null,
      "outputs": []
    },
    {
      "cell_type": "code",
      "source": [
        "df.season.value_counts().sort_index()\n"
      ],
      "metadata": {
        "id": "WhFEG6dJ-B1q"
      },
      "execution_count": null,
      "outputs": []
    },
    {
      "cell_type": "code",
      "source": [
        "hv_mean = df.home_victory.mean()\n",
        "hv_mean"
      ],
      "metadata": {
        "id": "BBG4nNCk-EyR"
      },
      "execution_count": null,
      "outputs": []
    },
    {
      "cell_type": "code",
      "source": [
        "df.run_diff.value_counts()\n"
      ],
      "metadata": {
        "id": "TmlRGiqr-GkT"
      },
      "execution_count": null,
      "outputs": []
    },
    {
      "cell_type": "code",
      "source": [
        "df.outs_total.value_counts()\n"
      ],
      "metadata": {
        "id": "h__vwrUS-I7O"
      },
      "execution_count": null,
      "outputs": []
    },
    {
      "cell_type": "code",
      "source": [
        "df.home_victory[df.outs_total==53].mean()\n"
      ],
      "metadata": {
        "id": "6ubCdvUr-MMT"
      },
      "execution_count": null,
      "outputs": []
    },
    {
      "cell_type": "code",
      "source": [
        "df.loc[(df.outs_total==53) & (df.home_victory!=1),:]\n"
      ],
      "metadata": {
        "id": "yUQdduNR-Of4"
      },
      "execution_count": null,
      "outputs": []
    },
    {
      "cell_type": "code",
      "source": [
        "df.game_no_h.value_counts().sort_index()\n"
      ],
      "metadata": {
        "id": "UyURa8w8-Qfe"
      },
      "execution_count": null,
      "outputs": []
    },
    {
      "cell_type": "code",
      "source": [
        "df = df[df.run_diff!=0]\n",
        "df_train = df[(df.season>1980) & (df.season<=2018)]\n",
        "df_valid = df[(df.season>=2019) & (df.season<=2020)]\n",
        "df_test = df[df.season>=2021]"
      ],
      "metadata": {
        "id": "MWEKv2A6-Tws"
      },
      "execution_count": null,
      "outputs": []
    },
    {
      "cell_type": "code",
      "source": [
        "features = ['OBP_162_h','OBP_162_v',\n",
        "            'SLG_162_h','SLG_162_v',\n",
        "            # 'OBP_30_h','OBP_30_v',\n",
        "            # 'SLG_30_h','SLG_30_v',\n",
        "            # 'game_no_h',\n",
        "           ]\n",
        "target = 'home_victory'"
      ],
      "metadata": {
        "id": "kN2jKpx6-VsV"
      },
      "execution_count": null,
      "outputs": []
    },
    {
      "cell_type": "code",
      "source": [
        "X_train = df_train.loc[:,features]\n",
        "X_valid = df_valid.loc[:,features]\n",
        "X_test = df_test.loc[:,features]\n",
        "\n",
        "y_train = df_train[target].to_numpy()\n",
        "y_valid = df_valid[target].to_numpy()\n",
        "y_test = df_test[target].to_numpy()"
      ],
      "metadata": {
        "id": "gVgMHQK5-XZx"
      },
      "execution_count": null,
      "outputs": []
    },
    {
      "cell_type": "code",
      "source": [
        "X_train.shape, X_valid.shape, X_test.shape,\n"
      ],
      "metadata": {
        "id": "O4mkOIbo-Y39"
      },
      "execution_count": null,
      "outputs": []
    },
    {
      "cell_type": "code",
      "source": [
        "plt.hist(X_train.OBP_162_h, np.linspace(.25,.4,151));\n"
      ],
      "metadata": {
        "id": "2GwtET_e-adm"
      },
      "execution_count": null,
      "outputs": []
    },
    {
      "cell_type": "code",
      "source": [
        "plt.hist(X_train.SLG_162_v, np.linspace(.3,.5,201));\n"
      ],
      "metadata": {
        "id": "HDRYvwaA-csB"
      },
      "execution_count": null,
      "outputs": []
    },
    {
      "cell_type": "code",
      "source": [
        "lgbm1 = lgbm.LGBMClassifier(n_estimators=1000, learning_rate=.02, max_depth=2)\n",
        "lgbm1.fit(X_train, y_train, eval_set=(X_valid, y_valid), eval_metric='logloss',\n",
        "          callbacks=[lgbm.early_stopping(stopping_rounds=50), lgbm.log_evaluation(10)])"
      ],
      "metadata": {
        "id": "Xv3AKR3i-fJU"
      },
      "execution_count": null,
      "outputs": []
    },
    {
      "cell_type": "code",
      "source": [
        "preds_lgbm = lgbm1.predict_proba(X_test)[:,1]\n"
      ],
      "metadata": {
        "id": "eOyPFNkl-hDY"
      },
      "execution_count": null,
      "outputs": []
    },
    {
      "cell_type": "code",
      "source": [
        "log_loss(y_test, preds_lgbm), log_loss(y_test, hv_mean*np.ones(len(y_test)))\n"
      ],
      "metadata": {
        "id": "XGZ1YsIe-hbn"
      },
      "execution_count": null,
      "outputs": []
    },
    {
      "cell_type": "code",
      "source": [
        "rd = mli.get_range_dict(X_train)\n",
        "plot_pts = X_test.sample(3, random_state=42)"
      ],
      "metadata": {
        "id": "lp-eoJEn-in9"
      },
      "execution_count": null,
      "outputs": []
    },
    {
      "cell_type": "code",
      "source": [
        "mli.ice_plot(lgbm1, plot_pts, X_test.columns, mli.get_range_dict(X_train), plots_per_row=2)\n"
      ],
      "metadata": {
        "id": "ZCDM18EP-mm9"
      },
      "execution_count": null,
      "outputs": []
    },
    {
      "cell_type": "code",
      "source": [
        "plt.figure(figsize=(16,6))\n",
        "mli.plot_reliability_diagram(y_test, preds_lgbm, show_histogram=True);"
      ],
      "metadata": {
        "id": "ZgZ-gmXG-pGk"
      },
      "execution_count": null,
      "outputs": []
    },
    {
      "cell_type": "code",
      "source": [
        "fc = stb.get_basic_config(X_train, stb.default_config_dict())\n",
        "\n",
        "stb1 = stb.StructureBoost(max_depth=3, learning_rate=.02, feature_configs = fc, num_trees=2000)\n",
        "stb1.fit(X_train, y_train, eval_set=(X_valid, y_valid), early_stop_past_steps=5)"
      ],
      "metadata": {
        "id": "imxsl_7T-rKr"
      },
      "execution_count": null,
      "outputs": []
    },
    {
      "cell_type": "code",
      "source": [
        "preds_stb = stb1.predict(X_test)\n"
      ],
      "metadata": {
        "id": "czrbv7yf-vSp"
      },
      "execution_count": null,
      "outputs": []
    },
    {
      "cell_type": "code",
      "source": [
        "log_loss(y_test, preds_stb), log_loss(y_test, hv_mean*np.ones(len(y_test)))\n"
      ],
      "metadata": {
        "id": "CtSjV-_b-v0v"
      },
      "execution_count": null,
      "outputs": []
    },
    {
      "cell_type": "code",
      "source": [
        "plt.figure(figsize=(16,6))\n",
        "mli.plot_reliability_diagram(y_test, preds_stb, show_histogram=True);"
      ],
      "metadata": {
        "id": "DOt9hJpn-xyA"
      },
      "execution_count": null,
      "outputs": []
    },
    {
      "cell_type": "code",
      "source": [
        "rd= mli.get_range_dict(X_train)\n",
        "mli.ice_plot(stb1, plot_pts, X_test.columns, rd, plots_per_row=2)"
      ],
      "metadata": {
        "id": "8NUX9z7o-2VJ"
      },
      "execution_count": null,
      "outputs": []
    }
  ]
}