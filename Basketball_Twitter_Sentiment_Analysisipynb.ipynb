{
  "nbformat": 4,
  "nbformat_minor": 0,
  "metadata": {
    "colab": {
      "provenance": []
    },
    "kernelspec": {
      "name": "python3",
      "display_name": "Python 3"
    },
    "language_info": {
      "name": "python"
    }
  },
  "cells": [
    {
      "cell_type": "markdown",
      "source": [
        "Twitter sentiment analysis"
      ],
      "metadata": {
        "id": "eGjxZguozDe8"
      }
    },
    {
      "cell_type": "code",
      "execution_count": null,
      "metadata": {
        "id": "QoIpToxezA5E"
      },
      "outputs": [],
      "source": [
        "import tweepy\n",
        "from textblob import TextBlob\n",
        "\n",
        "# Twitter API credentials\n",
        "consumer_key = 'YOUR_CONSUMER_KEY'\n",
        "consumer_secret = 'YOUR_CONSUMER_SECRET'\n",
        "access_token = 'YOUR_ACCESS_TOKEN'\n",
        "access_token_secret = 'YOUR_ACCESS_TOKEN_SECRET'\n",
        "\n",
        "# Authenticate with Twitter API\n",
        "auth = tweepy.OAuthHandler(consumer_key, consumer_secret)\n",
        "auth.set_access_token(access_token, access_token_secret)\n",
        "api = tweepy.API(auth)\n",
        "\n",
        "# Search query parameters\n",
        "query = 'NBA Warriors'\n",
        "tweet_count = 100\n",
        "\n",
        "# Scrape tweets\n",
        "tweets = tweepy.Cursor(api.search, q=query, lang='en').items(tweet_count)\n",
        "\n",
        "# Perform sentiment analysis on each tweet\n",
        "for tweet in tweets:\n",
        "    analysis = TextBlob(tweet.text)\n",
        "    polarity = analysis.sentiment.polarity\n",
        "    subjectivity = analysis.sentiment.subjectivity\n",
        "\n",
        "    print(f'Tweet: {tweet.text}')\n",
        "    print(f'Sentiment: Polarity={polarity:.2f}, Subjectivity={subjectivity:.2f}\\n')\n"
      ]
    }
  ]
}