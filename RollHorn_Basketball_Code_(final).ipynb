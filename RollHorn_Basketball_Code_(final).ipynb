{
  "nbformat": 4,
  "nbformat_minor": 0,
  "metadata": {
    "colab": {
      "provenance": []
    },
    "kernelspec": {
      "name": "python3",
      "display_name": "Python 3"
    },
    "language_info": {
      "name": "python"
    }
  },
  "cells": [
    {
      "cell_type": "markdown",
      "source": [
        "Schedule for NBA Games 2023\n"
      ],
      "metadata": {
        "id": "4CysvFBr98Ap"
      }
    },
    {
      "cell_type": "markdown",
      "source": [
        "Bootstrap Model"
      ],
      "metadata": {
        "id": "pm5jlIqA49xt"
      }
    },
    {
      "cell_type": "code",
      "execution_count": null,
      "metadata": {
        "colab": {
          "base_uri": "https://localhost:8080/"
        },
        "id": "6hsuldSd4IGw",
        "outputId": "4379832d-ca9e-4bc2-e593-5a717bd8daf1"
      },
      "outputs": [
        {
          "output_type": "stream",
          "name": "stdout",
          "text": [
            "Successful Bootstrap!!!\n"
          ]
        }
      ],
      "source": [
        "#Remove Preexisting Files\n",
        "! rm -rf NBA-Machine-Learning-Sports-Betting\n",
        "! rm -rf *\n",
        "\n",
        "#Bootstrap Files\n",
        "! git clone https://github.com/kyleskom/NBA-Machine-Learning-Sports-Betting.git\n",
        "! mv -v ./NBA-Machine-Learning-Sports-Betting/* .\n",
        "! pip3 install -r requirements.txt\n",
        "\n",
        "#Clear Bootstrap Logs\n",
        "from IPython.display import clear_output\n",
        "clear_output()\n",
        "\n",
        "print(\"Successful Bootstrap!!!\")"
      ]
    },
    {
      "cell_type": "markdown",
      "source": [
        "Run Model"
      ],
      "metadata": {
        "id": "27T-rj0k5ABd"
      }
    },
    {
      "cell_type": "code",
      "source": [
        "! python3 main.py -xgb -odds=fanduel\n"
      ],
      "metadata": {
        "colab": {
          "base_uri": "https://localhost:8080/"
        },
        "id": "eRao6yJF477m",
        "outputId": "ea5927d1-541f-4e5b-d148-72b608cf50b8"
      },
      "execution_count": null,
      "outputs": [
        {
          "output_type": "stream",
          "name": "stdout",
          "text": [
            "2023-08-11 15:41:48.319813: I tensorflow/core/platform/cpu_feature_guard.cc:193] This TensorFlow binary is optimized with oneAPI Deep Neural Network Library (oneDNN) to use the following CPU instructions in performance-critical operations:  AVX2 FMA\n",
            "To enable them in other operations, rebuild TensorFlow with the appropriate compiler flags.\n",
            "2023-08-11 15:41:49.917936: W tensorflow/compiler/xla/stream_executor/platform/default/dso_loader.cc:64] Could not load dynamic library 'libnvinfer.so.7'; dlerror: libnvinfer.so.7: cannot open shared object file: No such file or directory; LD_LIBRARY_PATH: /usr/local/nvidia/lib:/usr/local/nvidia/lib64\n",
            "2023-08-11 15:41:49.918084: W tensorflow/compiler/xla/stream_executor/platform/default/dso_loader.cc:64] Could not load dynamic library 'libnvinfer_plugin.so.7'; dlerror: libnvinfer_plugin.so.7: cannot open shared object file: No such file or directory; LD_LIBRARY_PATH: /usr/local/nvidia/lib:/usr/local/nvidia/lib64\n",
            "2023-08-11 15:41:49.918104: W tensorflow/compiler/tf2tensorrt/utils/py_utils.cc:38] TF-TRT Warning: Cannot dlopen some TensorRT libraries. If you would like to use Nvidia GPU with TensorRT, please make sure the missing libraries mentioned above are installed properly.\n",
            "2023-08-11 15:41:51.844506: W tensorflow/compiler/xla/stream_executor/platform/default/dso_loader.cc:64] Could not load dynamic library 'libcuda.so.1'; dlerror: libcuda.so.1: cannot open shared object file: No such file or directory; LD_LIBRARY_PATH: /usr/local/nvidia/lib:/usr/local/nvidia/lib64\n",
            "2023-08-11 15:41:51.844564: W tensorflow/compiler/xla/stream_executor/cuda/cuda_driver.cc:265] failed call to cuInit: UNKNOWN ERROR (303)\n",
            "------------------fanduel odds data------------------\n",
            "Dallas Mavericks (None) @ Minnesota Timberwolves (None)\n",
            "---------------XGBoost Model Predictions---------------\n",
            "\u001b[32mMinnesota Timberwolves\u001b[0m\u001b[36m (62.2%)\u001b[0m vs \u001b[31mDallas Mavericks\u001b[0m: \u001b[34mOVER \u001b[0mNone\u001b[0m\u001b[36m (95.8%)\u001b[0m\n",
            "---------------------Expected Value--------------------\n",
            "Traceback (most recent call last):\n",
            "  File \"/content/main.py\", line 132, in <module>\n",
            "    main()\n",
            "  File \"/content/main.py\", line 112, in main\n",
            "    XGBoost_Runner.xgb_runner(data, todays_games_uo, frame_ml, games, home_team_odds, away_team_odds, args.kc)\n",
            "  File \"/content/src/Predict/XGBoost_Runner.py\", line 89, in xgb_runner\n",
            "    bankroll_fraction_home = bankroll_descriptor + str(kc.calculate_kelly_criterion(home_team_odds[count], ml_predictions_array[count][0][1])) + '%'\n",
            "  File \"/content/src/Utils/Kelly_Criterion.py\", line 15, in calculate_kelly_criterion\n",
            "    decimal_odds = american_to_decimal(american_odds)\n",
            "  File \"/content/src/Utils/Kelly_Criterion.py\", line 5, in american_to_decimal\n",
            "    if american_odds >= 100:\n",
            "TypeError: '>=' not supported between instances of 'NoneType' and 'int'\n",
            "\u001b[0m"
          ]
        }
      ]
    },
    {
      "cell_type": "markdown",
      "source": [
        "Twitter Sentiment Analysis"
      ],
      "metadata": {
        "id": "TPk7Mmra6EsU"
      }
    },
    {
      "cell_type": "code",
      "execution_count": null,
      "metadata": {
        "id": "QoIpToxezA5E"
      },
      "outputs": [],
      "source": [
        "import tweepy\n",
        "from textblob import TextBlob\n",
        "\n",
        "# Twitter API credentials\n",
        "consumer_key = 'f9GorOTCvYihlb3BepuwUBBtE'\n",
        "consumer_secret = 'YZ6Dcpjn6Bda3VWrKztGFsqufn7SCNqxEXhFMXMsGEuNc2doIW'\n",
        "access_token = '1670079550846271488-x4C5Jm8M5MLdLbg7Qg24YLSPGX9IeL'\n",
        "access_token_secret = 'bmy16WQyVR5GcC6HZCxwquKOPunRaKklWQtIWvj5NSfEs'\n",
        "\n",
        "# Authenticate with Twitter API\n",
        "auth = tweepy.OAuthHandler(consumer_key, consumer_secret)\n",
        "auth.set_access_token(access_token, access_token_secret)\n",
        "api = tweepy.API(auth)\n",
        "\n",
        "# Search query parameters\n",
        "query = 'NBA Warriors'\n",
        "tweet_count = 100\n",
        "\n",
        "# Scrape tweets\n",
        "tweets = tweepy.Cursor(api.search, q=query, lang='en').items(tweet_count)\n",
        "\n",
        "# Perform sentiment analysis on each tweet\n",
        "for tweet in tweets:\n",
        "    analysis = TextBlob(tweet.text)\n",
        "    polarity = analysis.sentiment.polarity\n",
        "    subjectivity = analysis.sentiment.subjectivity\n",
        "\n",
        "    print(f'Tweet: {tweet.text}')\n",
        "    print(f'Sentiment: Polarity={polarity:.2f}, Subjectivity={subjectivity:.2f}\\n')\n"
      ]
    }
  ]
}